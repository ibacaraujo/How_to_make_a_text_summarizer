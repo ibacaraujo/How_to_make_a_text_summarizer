{
 "cells": [
  {
   "cell_type": "code",
   "execution_count": 1,
   "metadata": {
    "collapsed": false,
    "deletable": true,
    "editable": true
   },
   "outputs": [
    {
     "name": "stderr",
     "output_type": "stream",
     "text": [
      "Using TensorFlow backend.\n"
     ]
    }
   ],
   "source": [
    "import numpy as np\n",
    "import matplotlib.pyplot as plt\n",
    "import time\n",
    "import csv\n",
    "from keras.models import Sequential\n",
    "from keras.layers.core import Dense, Activation, Dropout\n",
    "from keras.layers.recurrent import LSTM, SimpleRNN\n",
    "from keras.layers.wrappers import TimeDistributed\n",
    "from RNN_utils import *"
   ]
  },
  {
   "cell_type": "code",
   "execution_count": 2,
   "metadata": {
    "collapsed": false,
    "deletable": true,
    "editable": true
   },
   "outputs": [
    {
     "name": "stdout",
     "output_type": "stream",
     "text": [
      "text length in numbers of characters: 709\n",
      "['commonly', 'higher', 'sub', '2011', 'writers', 'expanded', 'year', 'getting', 'approach', 'unit', 'Europan', ')', 'be', 'While', 'time', 'over', 'single', 'Raita', 'Portable', 'along', 'critics', 'unlocked', 'handled', 'freely', 'camp', 'first', 'franchise', 'other', \"'\", 'individual', 'making', 'series', 'It', 'Sakimoto', 'previous', 'unvoiced', 'carried', 'turns', 'has', 'November', 'text', 'III', 'Sega', 'moves', 'at', ':', 'players', 'referred', 'attacks', 'some', 'sales', 'an', 'composer', 'serving', 'the', 'Takeshi', 'that', 'compatible', 'Potentials', 'player', 'as', 'act', 'newcomers', 'movement', 'is', 'location', 'portraits', 'Alongside', 'During', 'a', 'team', 'such', 'May', 'done', 'using', 'replayed', 'of', 'adapted', 'penal', 'secret', 'underwent', 'PlayStation', 'opening', 'turn', 'follows', 'Employing', 'Second', 'received', 'more', 'comic', 'very', 'third', 'skills', 'They', 'remain', 'character', 'tactical', 'different', 'adjustments', 'Battlefield', 'Senjō', 'into', 'love', 'having', '2010', 'Valkyria', 'real', 'speech', 'its', 'relating', 'or', 'role', 'script', 'simulation', 'runs', 'downloadable', 'nation', 'to', '=', 'development', 'Due', 'low', 'returned', 'sung', '@-@', 'found', 'down', 'innate', 'theme', 'units', 'through', 'Nameless', 'portion', 'released', 'Outside', 'release', 'difficulty', 'directly', 'once', 'per', 'Imperial', 'forgiving', 'selected', 'their', 'speaking', 'granted', 'outside', 'Up', 'War', 'take', 'episodes', 'operations', 'maps', 'perspective', 'Unrecorded', 'can', 'elements', 'told', 'being', 'map', '戦場のヴァルキュリア3', 'both', 'option', 'limited', 'games', 'mission', 'perform', 'fan', 'director', 'Ozawa', 'in', 'call', 'multiple', 'scanned', 'field', 'unique', 'expense', 'standard', 'than', 'specific', 'who', 'There', 'fusion', 'gradually', 'forces', 'II', 'part', 'route', 'something', 'localized', 'unaltere', 'developed', 'Honjou', 'animated', 'parallel', 'Calamaty', 'and', '2014', 'main', 'nine', 'health', 'not', 'occurs', 'no', 'Action', 'but', 'are', 'two', 'gameplay', 'As', 'game', 'The', 'animation', '.', 'return', 'like', 'story', 'customized', 'Character', 'with', 'content', 'Azure', 'linear', 'Potential', 'was', 'pitted', 'knocked', '\"', 'HP', 'Japan', 'heroines', 'military', 'sealed', 'Each', 'Released', 'enemy', 'rest', '3', 'A', 'After', 'manga', 'began', 'Hitoshi', 'missions', \"'s\", 'characters', 'entries', 'original', 'growth', 'points', 'Media.Vision', 'translation', 'members', 'off', 'related', 'which', 'Chronicles', 'work', 'BliTZ', 'squad', 'Personal', 'minor', 'video', 'person', 'each', 'Gauge', 'additional', 'out', 'around', '(', 'it', 'Gallia', 'where', 'from', 'January', 'book', 'for', 'against', 'bubbles', 'divided', 'only', 'same', 'panels', 'positive', 'designer', 'when', 'also', 'them', 'if', 'top', 'progresses', 'distance', 'battle', 'western', 'select', 'met', 'partially', 'assigned', \"'n\", 'Stories', 'Japanese', 'playing', 'black', 'although', 'retained', 'Gameplay', 'Raven', 'Valkyira', ',', 'on', 'edition', '4', 'depending', 'one', 'lit', 'those', 'happens', 'system', 'Revolution', 'voiced', 'varies', 'completion', 'praised', 'will', 'by', 'features', 'during', 'battlefield', 'predecessors', 'control', 'they', 'large', 'would', 'carrying']\n"
     ]
    }
   ],
   "source": [
    "text = open('wikitext-2-raw/wiki.train.raw', 'r', encoding='utf8').read()\n",
    "text = text[0:4000]\n",
    "text = text.split()\n",
    "print('text length in numbers of characters:', len(text))\n",
    "chars = list(set(text))\n",
    "print(chars)\n",
    "VOCAB_SIZE = len(chars)\n",
    "SEQ_LENGTH = 50"
   ]
  },
  {
   "cell_type": "code",
   "execution_count": 3,
   "metadata": {
    "collapsed": true,
    "deletable": true,
    "editable": true
   },
   "outputs": [],
   "source": [
    "index_to_char = {index: char for index, char in enumerate(chars)}\n",
    "char_to_index = {char: index for index, char in enumerate(chars)}"
   ]
  },
  {
   "cell_type": "code",
   "execution_count": 4,
   "metadata": {
    "collapsed": false,
    "deletable": true,
    "editable": true
   },
   "outputs": [],
   "source": [
    "X = np.zeros((len(text)//SEQ_LENGTH, SEQ_LENGTH, VOCAB_SIZE))\n",
    "y = np.zeros((len(text)//SEQ_LENGTH, SEQ_LENGTH, VOCAB_SIZE))\n",
    "\n",
    "for i in range(0, len(text)//SEQ_LENGTH):\n",
    "    X_sequence = text[i*SEQ_LENGTH:(i+1)*SEQ_LENGTH]\n",
    "    X_sequence_index = [char_to_index[value] for value in X_sequence]\n",
    "    input_sequence = np.zeros((SEQ_LENGTH, VOCAB_SIZE))\n",
    "    \n",
    "    for j in range(SEQ_LENGTH):\n",
    "        input_sequence[j][X_sequence_index[j]] = 1\n",
    "    X[i] = input_sequence\n",
    "    \n",
    "    y_sequence = text[i*SEQ_LENGTH+1:(i+1)*SEQ_LENGTH+1]\n",
    "    y_sequence_index = [char_to_index[value] for value in y_sequence]\n",
    "    target_sequence = np.zeros((SEQ_LENGTH, VOCAB_SIZE))\n",
    "    \n",
    "    for j in range(SEQ_LENGTH):\n",
    "        target_sequence[j][y_sequence_index[j]] = 1\n",
    "    y[i] = target_sequence"
   ]
  },
  {
   "cell_type": "code",
   "execution_count": 9,
   "metadata": {
    "collapsed": false,
    "deletable": true,
    "editable": true
   },
   "outputs": [],
   "source": [
    "model = Sequential()\n",
    "model.add(LSTM(500, input_shape=(None, VOCAB_SIZE), return_sequences=True))\n",
    "for i in range(1):\n",
    "    model.add(LSTM(500, return_sequences=True))\n",
    "model.add(TimeDistributed(Dense(VOCAB_SIZE)))\n",
    "model.add(Activation('softmax'))\n",
    "model.compile(loss=\"categorical_crossentropy\", optimizer=\"rmsprop\")"
   ]
  },
  {
   "cell_type": "code",
   "execution_count": 7,
   "metadata": {
    "collapsed": false,
    "deletable": true,
    "editable": true
   },
   "outputs": [
    {
     "name": "stdout",
     "output_type": "stream",
     "text": [
      "Epoch 1/1\n",
      "14/14 [==============================] - 2s - loss: 5.5422\n"
     ]
    },
    {
     "data": {
      "text/plain": [
       "<keras.callbacks.History at 0x221562d7780>"
      ]
     },
     "execution_count": 7,
     "metadata": {},
     "output_type": "execute_result"
    }
   ],
   "source": [
    "model.fit(X, y, batch_size=50, verbose=1, nb_epoch=1)"
   ]
  }
 ],
 "metadata": {
  "kernelspec": {
   "display_name": "Python 3",
   "language": "python",
   "name": "python3"
  },
  "language_info": {
   "codemirror_mode": {
    "name": "ipython",
    "version": 3
   },
   "file_extension": ".py",
   "mimetype": "text/x-python",
   "name": "python",
   "nbconvert_exporter": "python",
   "pygments_lexer": "ipython3",
   "version": "3.5.2"
  }
 },
 "nbformat": 4,
 "nbformat_minor": 2
}
